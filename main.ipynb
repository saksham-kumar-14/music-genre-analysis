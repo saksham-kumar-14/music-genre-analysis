{
 "cells": [
  {
   "cell_type": "code",
   "execution_count": 3,
   "id": "daaaadd9-ac9b-4fce-9fd3-d46e0c7c0a3a",
   "metadata": {},
   "outputs": [],
   "source": [
    "import pandas as pd\n",
    "import numpy as np\n",
    "import matplotlib.pyplot as plt\n",
    "import seaborn as sns"
   ]
  },
  {
   "cell_type": "code",
   "execution_count": 4,
   "id": "303951a8-1669-4429-8ce0-8f5c4c6dc15a",
   "metadata": {},
   "outputs": [
    {
     "data": {
      "text/html": [
       "<div>\n",
       "<style scoped>\n",
       "    .dataframe tbody tr th:only-of-type {\n",
       "        vertical-align: middle;\n",
       "    }\n",
       "\n",
       "    .dataframe tbody tr th {\n",
       "        vertical-align: top;\n",
       "    }\n",
       "\n",
       "    .dataframe thead th {\n",
       "        text-align: right;\n",
       "    }\n",
       "</style>\n",
       "<table border=\"1\" class=\"dataframe\">\n",
       "  <thead>\n",
       "    <tr style=\"text-align: right;\">\n",
       "      <th></th>\n",
       "      <th>song_id</th>\n",
       "      <th>keyword_1</th>\n",
       "      <th>keyword_2</th>\n",
       "      <th>keyword_3</th>\n",
       "      <th>genre</th>\n",
       "    </tr>\n",
       "  </thead>\n",
       "  <tbody>\n",
       "    <tr>\n",
       "      <th>0</th>\n",
       "      <td>74</td>\n",
       "      <td>guitar</td>\n",
       "      <td>happy</td>\n",
       "      <td>distorted</td>\n",
       "      <td>rock</td>\n",
       "    </tr>\n",
       "    <tr>\n",
       "      <th>1</th>\n",
       "      <td>103</td>\n",
       "      <td>brass</td>\n",
       "      <td>energetic</td>\n",
       "      <td>melodic</td>\n",
       "      <td>classical</td>\n",
       "    </tr>\n",
       "    <tr>\n",
       "      <th>2</th>\n",
       "      <td>201</td>\n",
       "      <td>banjo</td>\n",
       "      <td>happy</td>\n",
       "      <td>acoustic</td>\n",
       "      <td>country</td>\n",
       "    </tr>\n",
       "    <tr>\n",
       "      <th>3</th>\n",
       "      <td>194</td>\n",
       "      <td>synth</td>\n",
       "      <td>energetic</td>\n",
       "      <td>heavy</td>\n",
       "      <td>hip-hop</td>\n",
       "    </tr>\n",
       "    <tr>\n",
       "      <th>4</th>\n",
       "      <td>184</td>\n",
       "      <td>synth</td>\n",
       "      <td>energetic</td>\n",
       "      <td>slow</td>\n",
       "      <td>hip-hop</td>\n",
       "    </tr>\n",
       "  </tbody>\n",
       "</table>\n",
       "</div>"
      ],
      "text/plain": [
       "   song_id keyword_1  keyword_2  keyword_3      genre\n",
       "0       74    guitar      happy  distorted       rock\n",
       "1      103     brass  energetic    melodic  classical\n",
       "2      201     banjo      happy   acoustic    country\n",
       "3      194     synth  energetic      heavy    hip-hop\n",
       "4      184     synth  energetic       slow    hip-hop"
      ]
     },
     "execution_count": 4,
     "metadata": {},
     "output_type": "execute_result"
    }
   ],
   "source": [
    "df = pd.read_csv(\"dataset.csv\")\n",
    "df.head()"
   ]
  },
  {
   "cell_type": "markdown",
   "id": "ad0f3431-344d-4f7b-825f-65a8cca53140",
   "metadata": {},
   "source": [
    "## Generating word embeddings for the keywords using BoW"
   ]
  },
  {
   "cell_type": "code",
   "execution_count": 9,
   "id": "0d424e21-512a-47c2-9a32-490ef23771b0",
   "metadata": {},
   "outputs": [],
   "source": [
    "def create_embeddings(keyword):\n",
    "    arr = np.zeros(26)\n",
    "    for i in keyword:\n",
    "        arr[ord(i.upper()) - ord('A')] += 1\n",
    "\n",
    "    return arr"
   ]
  },
  {
   "cell_type": "code",
   "execution_count": 12,
   "id": "267f111e-5cd5-4165-b8ac-5514625b953f",
   "metadata": {},
   "outputs": [],
   "source": [
    "def give_df_keyword_embeddings(df):\n",
    "    arr = []\n",
    "    for idx, row in df.iterrows():\n",
    "        t = []\n",
    "        t.append(create_embeddings(row['keyword_1']))\n",
    "        t.append(create_embeddings(row['keyword_2']))\n",
    "        t.append(create_embeddings(row['keyword_3']))\n",
    "        arr.append(t)\n",
    "\n",
    "    return np.array(arr)"
   ]
  },
  {
   "cell_type": "code",
   "execution_count": 15,
   "id": "f0d2c7cf-dc94-4bd7-8a3b-3bc0bb0e3612",
   "metadata": {},
   "outputs": [
    {
     "data": {
      "text/plain": [
       "array([[[1., 0., 0., ..., 0., 0., 0.],\n",
       "        [1., 0., 0., ..., 0., 1., 0.],\n",
       "        [0., 0., 0., ..., 0., 0., 0.]],\n",
       "\n",
       "       [[1., 1., 0., ..., 0., 0., 0.],\n",
       "        [0., 0., 1., ..., 0., 0., 0.],\n",
       "        [0., 0., 1., ..., 0., 0., 0.]],\n",
       "\n",
       "       [[1., 1., 0., ..., 0., 0., 0.],\n",
       "        [1., 0., 0., ..., 0., 1., 0.],\n",
       "        [1., 0., 2., ..., 0., 0., 0.]],\n",
       "\n",
       "       ...,\n",
       "\n",
       "       [[1., 0., 0., ..., 0., 0., 0.],\n",
       "        [1., 0., 0., ..., 0., 1., 0.],\n",
       "        [0., 0., 1., ..., 0., 1., 0.]],\n",
       "\n",
       "       [[0., 0., 0., ..., 0., 1., 0.],\n",
       "        [0., 0., 0., ..., 0., 0., 0.],\n",
       "        [2., 1., 1., ..., 0., 0., 0.]],\n",
       "\n",
       "       [[0., 0., 0., ..., 0., 1., 0.],\n",
       "        [1., 0., 0., ..., 0., 0., 0.],\n",
       "        [0., 0., 0., ..., 0., 0., 0.]]])"
      ]
     },
     "execution_count": 15,
     "metadata": {},
     "output_type": "execute_result"
    }
   ],
   "source": [
    "embeddings = give_df_keyword_embeddings(df)\n",
    "embeddings"
   ]
  },
  {
   "cell_type": "markdown",
   "id": "795c23f8-8521-4bf6-bf87-6980ebb2a046",
   "metadata": {},
   "source": [
    "## Dimensionality Reduction"
   ]
  },
  {
   "cell_type": "code",
   "execution_count": 62,
   "id": "32a4b2f5-5896-40b1-a326-9b85128c319b",
   "metadata": {},
   "outputs": [],
   "source": [
    "# reducing features to useful features only\n",
    "class PCA:\n",
    "    def __init__(self):\n",
    "        pass"
   ]
  }
 ],
 "metadata": {
  "kernelspec": {
   "display_name": "Python 3 (ipykernel)",
   "language": "python",
   "name": "python3"
  },
  "language_info": {
   "codemirror_mode": {
    "name": "ipython",
    "version": 3
   },
   "file_extension": ".py",
   "mimetype": "text/x-python",
   "name": "python",
   "nbconvert_exporter": "python",
   "pygments_lexer": "ipython3",
   "version": "3.12.7"
  }
 },
 "nbformat": 4,
 "nbformat_minor": 5
}
