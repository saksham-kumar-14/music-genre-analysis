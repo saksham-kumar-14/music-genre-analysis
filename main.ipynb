{
 "cells": [
  {
   "cell_type": "code",
   "execution_count": 381,
   "id": "daaaadd9-ac9b-4fce-9fd3-d46e0c7c0a3a",
   "metadata": {},
   "outputs": [],
   "source": [
    "import pandas as pd\n",
    "import numpy as np\n",
    "import matplotlib.pyplot as plt\n",
    "%matplotlib inline\n",
    "import random"
   ]
  },
  {
   "cell_type": "code",
   "execution_count": 382,
   "id": "303951a8-1669-4429-8ce0-8f5c4c6dc15a",
   "metadata": {},
   "outputs": [
    {
     "data": {
      "text/html": [
       "<div>\n",
       "<style scoped>\n",
       "    .dataframe tbody tr th:only-of-type {\n",
       "        vertical-align: middle;\n",
       "    }\n",
       "\n",
       "    .dataframe tbody tr th {\n",
       "        vertical-align: top;\n",
       "    }\n",
       "\n",
       "    .dataframe thead th {\n",
       "        text-align: right;\n",
       "    }\n",
       "</style>\n",
       "<table border=\"1\" class=\"dataframe\">\n",
       "  <thead>\n",
       "    <tr style=\"text-align: right;\">\n",
       "      <th></th>\n",
       "      <th>song_id</th>\n",
       "      <th>keyword_1</th>\n",
       "      <th>keyword_2</th>\n",
       "      <th>keyword_3</th>\n",
       "      <th>genre</th>\n",
       "    </tr>\n",
       "  </thead>\n",
       "  <tbody>\n",
       "    <tr>\n",
       "      <th>0</th>\n",
       "      <td>74</td>\n",
       "      <td>guitar</td>\n",
       "      <td>happy</td>\n",
       "      <td>distorted</td>\n",
       "      <td>rock</td>\n",
       "    </tr>\n",
       "    <tr>\n",
       "      <th>1</th>\n",
       "      <td>103</td>\n",
       "      <td>brass</td>\n",
       "      <td>energetic</td>\n",
       "      <td>melodic</td>\n",
       "      <td>classical</td>\n",
       "    </tr>\n",
       "    <tr>\n",
       "      <th>2</th>\n",
       "      <td>201</td>\n",
       "      <td>banjo</td>\n",
       "      <td>happy</td>\n",
       "      <td>acoustic</td>\n",
       "      <td>country</td>\n",
       "    </tr>\n",
       "    <tr>\n",
       "      <th>3</th>\n",
       "      <td>194</td>\n",
       "      <td>synth</td>\n",
       "      <td>energetic</td>\n",
       "      <td>heavy</td>\n",
       "      <td>hip-hop</td>\n",
       "    </tr>\n",
       "    <tr>\n",
       "      <th>4</th>\n",
       "      <td>184</td>\n",
       "      <td>synth</td>\n",
       "      <td>energetic</td>\n",
       "      <td>slow</td>\n",
       "      <td>hip-hop</td>\n",
       "    </tr>\n",
       "  </tbody>\n",
       "</table>\n",
       "</div>"
      ],
      "text/plain": [
       "   song_id keyword_1  keyword_2  keyword_3      genre\n",
       "0       74    guitar      happy  distorted       rock\n",
       "1      103     brass  energetic    melodic  classical\n",
       "2      201     banjo      happy   acoustic    country\n",
       "3      194     synth  energetic      heavy    hip-hop\n",
       "4      184     synth  energetic       slow    hip-hop"
      ]
     },
     "execution_count": 382,
     "metadata": {},
     "output_type": "execute_result"
    }
   ],
   "source": [
    "df = pd.read_csv(\"dataset.csv\")\n",
    "df.head()"
   ]
  },
  {
   "cell_type": "code",
   "execution_count": 383,
   "id": "94c6917f-47cb-49a8-8418-2b83332c269e",
   "metadata": {
    "scrolled": true
   },
   "outputs": [
    {
     "data": {
      "text/plain": [
       "{'rock': [0,\n",
       "  6,\n",
       "  7,\n",
       "  15,\n",
       "  18,\n",
       "  21,\n",
       "  25,\n",
       "  26,\n",
       "  27,\n",
       "  29,\n",
       "  30,\n",
       "  35,\n",
       "  40,\n",
       "  45,\n",
       "  49,\n",
       "  52,\n",
       "  61,\n",
       "  68,\n",
       "  70,\n",
       "  92,\n",
       "  95,\n",
       "  98,\n",
       "  104,\n",
       "  107,\n",
       "  111,\n",
       "  130,\n",
       "  131,\n",
       "  133,\n",
       "  134,\n",
       "  141],\n",
       " 'classical': [1,\n",
       "  5,\n",
       "  8,\n",
       "  11,\n",
       "  13,\n",
       "  16,\n",
       "  32,\n",
       "  33,\n",
       "  34,\n",
       "  44,\n",
       "  50,\n",
       "  51,\n",
       "  69,\n",
       "  72,\n",
       "  73,\n",
       "  78,\n",
       "  94,\n",
       "  100,\n",
       "  102,\n",
       "  105,\n",
       "  109,\n",
       "  116,\n",
       "  117,\n",
       "  119,\n",
       "  122,\n",
       "  124,\n",
       "  125],\n",
       " 'country': [2,\n",
       "  9,\n",
       "  12,\n",
       "  14,\n",
       "  20,\n",
       "  31,\n",
       "  37,\n",
       "  43,\n",
       "  46,\n",
       "  48,\n",
       "  54,\n",
       "  55,\n",
       "  59,\n",
       "  60,\n",
       "  63,\n",
       "  67,\n",
       "  77,\n",
       "  80,\n",
       "  82,\n",
       "  90,\n",
       "  99,\n",
       "  114,\n",
       "  118,\n",
       "  121,\n",
       "  123,\n",
       "  128,\n",
       "  129,\n",
       "  139,\n",
       "  140],\n",
       " 'hip-hop': [3,\n",
       "  4,\n",
       "  19,\n",
       "  22,\n",
       "  23,\n",
       "  28,\n",
       "  42,\n",
       "  53,\n",
       "  56,\n",
       "  57,\n",
       "  62,\n",
       "  64,\n",
       "  66,\n",
       "  74,\n",
       "  75,\n",
       "  79,\n",
       "  81,\n",
       "  84,\n",
       "  91,\n",
       "  93,\n",
       "  101,\n",
       "  112,\n",
       "  115,\n",
       "  126,\n",
       "  127,\n",
       "  132,\n",
       "  135,\n",
       "  137,\n",
       "  138,\n",
       "  142],\n",
       " 'pop': [10,\n",
       "  17,\n",
       "  24,\n",
       "  36,\n",
       "  38,\n",
       "  39,\n",
       "  41,\n",
       "  47,\n",
       "  58,\n",
       "  65,\n",
       "  71,\n",
       "  76,\n",
       "  83,\n",
       "  85,\n",
       "  86,\n",
       "  87,\n",
       "  88,\n",
       "  89,\n",
       "  96,\n",
       "  97,\n",
       "  103,\n",
       "  106,\n",
       "  108,\n",
       "  110,\n",
       "  113,\n",
       "  120,\n",
       "  136,\n",
       "  143,\n",
       "  144,\n",
       "  145,\n",
       "  146]}"
      ]
     },
     "execution_count": 383,
     "metadata": {},
     "output_type": "execute_result"
    }
   ],
   "source": [
    "ALL_GENRES = {}\n",
    "for idx, row in df.iterrows():\n",
    "    if row['genre'] not in ALL_GENRES:\n",
    "        ALL_GENRES[row['genre']] = [idx]\n",
    "    else:\n",
    "        ALL_GENRES[row['genre']].append(idx)\n",
    "\n",
    "ALL_GENRES"
   ]
  },
  {
   "cell_type": "markdown",
   "id": "ad0f3431-344d-4f7b-825f-65a8cca53140",
   "metadata": {},
   "source": [
    "## Generating word embeddings for the keywords using BoW"
   ]
  },
  {
   "cell_type": "code",
   "execution_count": 384,
   "id": "0d424e21-512a-47c2-9a32-490ef23771b0",
   "metadata": {},
   "outputs": [
    {
     "data": {
      "text/plain": [
       "array([0., 0., 0., 0., 0., 0., 0., 0., 0., 0., 0., 1., 0., 0., 1., 0., 0.,\n",
       "       0., 1., 0., 0., 0., 1., 0., 0., 0.])"
      ]
     },
     "execution_count": 384,
     "metadata": {},
     "output_type": "execute_result"
    }
   ],
   "source": [
    "def create_embeddings(keyword):\n",
    "\n",
    "    ans = np.zeros(26)\n",
    "    for i in keyword:\n",
    "        ans[ord(i.upper()) - ord('A')] = 1\n",
    "\n",
    "    return ans\n",
    "\n",
    "create_embeddings('slow')"
   ]
  },
  {
   "cell_type": "code",
   "execution_count": 385,
   "id": "267f111e-5cd5-4165-b8ac-5514625b953f",
   "metadata": {},
   "outputs": [],
   "source": [
    "def give_df_keyword_embeddings(df):\n",
    "    arr = []\n",
    "    for idx, row in df.iterrows():\n",
    "        t = []\n",
    "        t.append(create_embeddings(row['keyword_1']))\n",
    "        t.append(create_embeddings(row['keyword_2']))\n",
    "        t.append(create_embeddings(row['keyword_3']))\n",
    "        arr.append(t)\n",
    "\n",
    "    return np.array(arr)"
   ]
  },
  {
   "cell_type": "code",
   "execution_count": 386,
   "id": "f0d2c7cf-dc94-4bd7-8a3b-3bc0bb0e3612",
   "metadata": {},
   "outputs": [
    {
     "data": {
      "text/plain": [
       "array([[[1., 0., 0., ..., 0., 0., 0.],\n",
       "        [1., 0., 0., ..., 0., 1., 0.],\n",
       "        [0., 0., 0., ..., 0., 0., 0.]],\n",
       "\n",
       "       [[1., 1., 0., ..., 0., 0., 0.],\n",
       "        [0., 0., 1., ..., 0., 0., 0.],\n",
       "        [0., 0., 1., ..., 0., 0., 0.]],\n",
       "\n",
       "       [[1., 1., 0., ..., 0., 0., 0.],\n",
       "        [1., 0., 0., ..., 0., 1., 0.],\n",
       "        [1., 0., 1., ..., 0., 0., 0.]],\n",
       "\n",
       "       ...,\n",
       "\n",
       "       [[1., 0., 0., ..., 0., 0., 0.],\n",
       "        [1., 0., 0., ..., 0., 1., 0.],\n",
       "        [0., 0., 1., ..., 0., 1., 0.]],\n",
       "\n",
       "       [[0., 0., 0., ..., 0., 1., 0.],\n",
       "        [0., 0., 0., ..., 0., 0., 0.],\n",
       "        [1., 1., 1., ..., 0., 0., 0.]],\n",
       "\n",
       "       [[0., 0., 0., ..., 0., 1., 0.],\n",
       "        [1., 0., 0., ..., 0., 0., 0.],\n",
       "        [0., 0., 0., ..., 0., 0., 0.]]])"
      ]
     },
     "execution_count": 386,
     "metadata": {},
     "output_type": "execute_result"
    }
   ],
   "source": [
    "embeddings = give_df_keyword_embeddings(df)\n",
    "embeddings"
   ]
  },
  {
   "cell_type": "markdown",
   "id": "795c23f8-8521-4bf6-bf87-6980ebb2a046",
   "metadata": {},
   "source": [
    "## Dimensionality Reduction for each keyword matrix"
   ]
  },
  {
   "cell_type": "code",
   "execution_count": 387,
   "id": "32a4b2f5-5896-40b1-a326-9b85128c319b",
   "metadata": {},
   "outputs": [],
   "source": [
    "class PCA:\n",
    "\n",
    "    def __init__(self, n_components):\n",
    "        self.n_components = n_components\n",
    "        self.components = None\n",
    "        self.mean = None\n",
    "\n",
    "    def fit(self, X):\n",
    "        self.mean = np.mean(X, axis=0)\n",
    "        X = X -  self.mean\n",
    "\n",
    "        cov = np.cov(X.T)\n",
    "        \n",
    "        eigenvectors, eigenvalues = np.linalg.eig(cov)\n",
    "\n",
    "        eigenvectors = eigenvectors.T\n",
    "\n",
    "        idxs = np.argsort(eigenvalues)[::-1]\n",
    "        eigenvalues = eigenvalues[idxs]\n",
    "        eigenvectors = eigenvectors[idxs]\n",
    "\n",
    "        self.components = eigenvectors[:self.n_components]\n",
    "\n",
    "    def transform(self, X):\n",
    "        X = X - self.mean\n",
    "        return np.dot(X, self.components.T)"
   ]
  },
  {
   "cell_type": "code",
   "execution_count": 388,
   "id": "07b64c9e-be28-403b-aeb7-ce9be0c17e87",
   "metadata": {},
   "outputs": [],
   "source": [
    "def transform_embeddings(embeddings, PCA):\n",
    "\n",
    "    arr = []\n",
    "    for i, row in enumerate(embeddings):\n",
    "        pca = PCA(2)\n",
    "        pca.fit(row)\n",
    "        reduced_dim_row = pca.transform(row)\n",
    "        arr.append(reduced_dim_row)\n",
    "    \n",
    "    return np.array(arr)\n",
    "\n",
    "transformed_embeddings = transform_embeddings(embeddings, PCA)"
   ]
  },
  {
   "cell_type": "markdown",
   "id": "e7bd66ca-c2c9-4573-a259-470064e0eef1",
   "metadata": {},
   "source": [
    "## Combining the embeddings into one"
   ]
  },
  {
   "cell_type": "code",
   "execution_count": 389,
   "id": "fca8cdab-470c-47e4-8c84-75b04a02ff5d",
   "metadata": {},
   "outputs": [],
   "source": [
    "def combine_embeddings(transformed_embeddings):\n",
    "    arr = []\n",
    "\n",
    "    for i, row in enumerate(transformed_embeddings):\n",
    "        t = [0, 0]\n",
    "        for j, vals in enumerate(row):\n",
    "            t[0] += vals[0]\n",
    "            t[1] += vals[1]\n",
    "        t[0] /= len(row)\n",
    "        t[0] = t[0].real\n",
    "        t[1] /= len(row)\n",
    "        t[1] = t[1].real\n",
    "        \n",
    "        arr.append(t)\n",
    "\n",
    "    return np.array(arr)\n",
    "\n",
    "combined_embeddings = combine_embeddings(transformed_embeddings)"
   ]
  },
  {
   "cell_type": "markdown",
   "id": "abac76e4-d144-4a25-a86c-c63b80a42c92",
   "metadata": {},
   "source": [
    "## Apply K-Means clustering"
   ]
  },
  {
   "cell_type": "code",
   "execution_count": 390,
   "id": "14659c28-2ad4-43f8-b02c-557fb9b35c4c",
   "metadata": {},
   "outputs": [],
   "source": [
    "def get_squared_dis(x1, y1, x2, y2):\n",
    "    return (x1 - x2)**2 + (y1 - y2)**2"
   ]
  },
  {
   "cell_type": "code",
   "execution_count": 391,
   "id": "4dc26e04-f915-423c-b88d-de59e65ef0d0",
   "metadata": {},
   "outputs": [],
   "source": [
    "def compute_init_centroids(K, matrix):\n",
    "    random_idx = np.random.permutation(matrix.shape[0])\n",
    "    \n",
    "    centroids = matrix[random_idx[:K]]\n",
    "    \n",
    "    return centroids\n",
    "    "
   ]
  },
  {
   "cell_type": "code",
   "execution_count": 392,
   "id": "37b09459-4547-40d5-bd54-353d2935d16c",
   "metadata": {},
   "outputs": [],
   "source": [
    "def get_cluster_index(centroids, matrix, K):\n",
    "    m ,n = matrix.shape\n",
    "    cluster_index = np.zeros(m)\n",
    "\n",
    "    for i in range(m):\n",
    "\n",
    "        d = get_squared_dis(matrix[i][0], matrix[i][1], centroids[0][0], centroids[0][1])\n",
    "        ans = 0\n",
    "        for j in range(1, K):\n",
    "            new_d = get_squared_dis(matrix[i][0], matrix[i][1], centroids[j][0], centroids[j][1])\n",
    "            if(new_d < d):\n",
    "                d = new_d\n",
    "                ans = j\n",
    "\n",
    "        cluster_index[i] = ans\n",
    "\n",
    "    return cluster_index\n",
    "                \n",
    "            "
   ]
  },
  {
   "cell_type": "code",
   "execution_count": 393,
   "id": "0778d5fb-a72e-48ca-bfe3-e9726ac73350",
   "metadata": {},
   "outputs": [],
   "source": [
    "def compute_centroids(cluster_index, matrix, centroids, k):\n",
    "    m, n = matrix.shape\n",
    "    new_centroids = []\n",
    "\n",
    "    for i in range(k):\n",
    "\n",
    "        x_m, y_m = 0, 0\n",
    "        n = 0\n",
    "        for j in range(m):\n",
    "            if cluster_index[j] == i:\n",
    "                x_m += matrix[j][0]\n",
    "                y_m += matrix[j][1]\n",
    "                n += 1\n",
    "\n",
    "        if n != 0:\n",
    "            x_m /= n\n",
    "            y_m /= n\n",
    "\n",
    "        new_centroids.append([x_m ,y_m])\n",
    "\n",
    "    return np.array(new_centroids)"
   ]
  },
  {
   "cell_type": "code",
   "execution_count": 394,
   "id": "814c0c0f-f05f-48de-8b0d-f3f52bd8e88a",
   "metadata": {},
   "outputs": [],
   "source": [
    "def run_KMeans(matrix, K, iterations):\n",
    "    m, n = matrix.shape\n",
    "    centroids = compute_init_centroids(K, matrix)\n",
    "\n",
    "    for i in range(iterations):\n",
    "\n",
    "        cluster_index = get_cluster_index(centroids, matrix, K)\n",
    "\n",
    "        centroids = compute_centroids(cluster_index, matrix, centroids, K)\n",
    "\n",
    "    return cluster_index, centroids"
   ]
  },
  {
   "cell_type": "code",
   "execution_count": 395,
   "id": "798143d9-e3ed-4251-a4d3-0cf88be7049a",
   "metadata": {},
   "outputs": [],
   "source": [
    "def cal_shilloute_dis(cluster_index, centroids, matrix, K):\n",
    "    m, n = matrix.shape\n",
    "\n",
    "    si_scores = np.zeros(K)\n",
    "\n",
    "    for i in range(m):\n",
    "\n",
    "        point = matrix[i]\n",
    "\n",
    "        # calculating cohesion <intra cluster distance>\n",
    "        arr = []\n",
    "        for j in range(m):\n",
    "            if cluster_index[j] == cluster_index[i] and i != j:\n",
    "                arr.append(matrix[j])\n",
    "\n",
    "        if len(arr) > 1:\n",
    "            a_i = np.mean([get_squared_dis(point[0], point[1], other[0], other[1]) for other in arr if not np.array_equal(point, other)])\n",
    "        else:\n",
    "            a_i = 0\n",
    "\n",
    "\n",
    "        # calculating separation <mean distance from nearest cluster>\n",
    "        b_i = np.inf\n",
    "\n",
    "        for j in range(K):\n",
    "            if j == cluster_index[i]:\n",
    "                continue\n",
    "\n",
    "            arr = []\n",
    "            for k in range(m):\n",
    "                if cluster_index[k] == j:\n",
    "                    arr.append(matrix[k])\n",
    "\n",
    "            b_i = min(b_i, np.mean([get_squared_dis(point[0], point[1], other[0], other[1]) for other in arr]))\n",
    "\n",
    "        # computer score\n",
    "        if max(a_i, b_i) > 0 :\n",
    "            si_scores =  (b_i - a_i) / max(a_i, b_i)\n",
    "\n",
    "\n",
    "    return np.mean(si_scores)\n",
    "        "
   ]
  },
  {
   "cell_type": "code",
   "execution_count": 396,
   "id": "9545c2c4-9904-4d94-ad50-778b64ece38a",
   "metadata": {},
   "outputs": [],
   "source": [
    "def apply_clustering(matrix):\n",
    "    best, K = -1, 1\n",
    "    best_cluster_index, best_centroids = None, None\n",
    "    \n",
    "    for i in range(2, 10):\n",
    "        cluster_index, centroids = run_KMeans(matrix, i, 20)\n",
    "        score = cal_shilloute_dis(cluster_index, centroids, matrix, i)\n",
    "        \n",
    "        if score > best:\n",
    "            best = score\n",
    "            K = i\n",
    "            best_cluster_index = cluster_index\n",
    "            best_centroids = centroids\n",
    "    \n",
    "    return best, K, best_cluster_index, best_centroids"
   ]
  },
  {
   "cell_type": "code",
   "execution_count": 397,
   "id": "4c7fbd31-a4eb-44dc-b949-218c66175a8a",
   "metadata": {
    "scrolled": true
   },
   "outputs": [
    {
     "data": {
      "text/plain": [
       "(np.float64(0.7960753532182103),\n",
       " 8,\n",
       " array([7., 6., 6., 7., 3., 6., 0., 6., 2., 0., 4., 5., 6., 0., 6., 2., 2.,\n",
       "        4., 6., 5., 3., 6., 5., 6., 6., 6., 0., 0., 7., 6., 6., 2., 2., 2.,\n",
       "        6., 2., 6., 3., 2., 2., 6., 6., 3., 2., 5., 2., 6., 3., 6., 6., 2.,\n",
       "        5., 6., 7., 6., 5., 2., 2., 7., 0., 7., 6., 6., 0., 0., 4., 6., 2.,\n",
       "        0., 6., 6., 4., 6., 5., 0., 7., 2., 6., 7., 3., 0., 5., 0., 6., 2.,\n",
       "        0., 0., 0., 6., 3., 5., 2., 6., 1., 7., 6., 4., 1., 6., 6., 6., 2.,\n",
       "        6., 7., 0., 6., 2., 5., 2., 0., 3., 7., 5., 5., 6., 0., 3., 2., 3.,\n",
       "        6., 5., 6., 0., 2., 5., 2., 4., 6., 2., 0., 7., 6., 5., 6., 0., 4.,\n",
       "        6., 6., 2., 0., 6., 2., 6., 0., 6., 3., 2.]),\n",
       " array([[ 1.30330529e-16,  1.52856793e-16],\n",
       "        [ 5.13581319e-34,  2.96059473e-16],\n",
       "        [ 7.66582565e-17,  7.83103741e-17],\n",
       "        [ 8.57899610e-17,  1.68215610e-17],\n",
       "        [-6.45645086e-33,  1.42742960e-16],\n",
       "        [ 2.83723662e-17,  2.34380416e-17],\n",
       "        [-1.68093069e-33, -1.25381970e-33],\n",
       "        [-4.32264276e-33,  7.24728919e-17]]))"
      ]
     },
     "execution_count": 397,
     "metadata": {},
     "output_type": "execute_result"
    }
   ],
   "source": [
    "best, K, cluster_index, centroids = apply_clustering(combined_embeddings)\n",
    "best, K, cluster_index, centroids"
   ]
  },
  {
   "cell_type": "markdown",
   "id": "505be62b-59d0-4e2f-b1f1-5085c84f825e",
   "metadata": {},
   "source": [
    "## Graph for clustering"
   ]
  },
  {
   "cell_type": "code",
   "execution_count": 398,
   "id": "0766667a-7933-48a3-a9bf-4d7ec8e05584",
   "metadata": {},
   "outputs": [],
   "source": [
    "COLOR_MAP = {}\n",
    "for i in range(K):\n",
    "    COLOR_MAP[i] = (random.random(), random.random(), random.random())\n",
    "def get_color_for_plot(i, K):\n",
    "    return COLOR_MAP[i]"
   ]
  },
  {
   "cell_type": "code",
   "execution_count": 399,
   "id": "ee2f5dac-dddd-478d-978f-0ebe9af34e25",
   "metadata": {},
   "outputs": [],
   "source": [
    "def make_graph(K, cluster_index, centroids, matrix):\n",
    "\n",
    "    m, n = matrix.shape\n",
    "\n",
    "    # plotting data points\n",
    "    for i in range(m):\n",
    "        color = get_color_for_plot(cluster_index[i], K)\n",
    "        plt.scatter(matrix[i][0], matrix[i][1], marker = \"o\", color = color, s=50, edgecolors=\"black\")\n",
    "\n",
    "    # plotting centroids\n",
    "    for i in range(K):\n",
    "        color = get_color_for_plot(i, K)\n",
    "        plt.scatter(centroids[i][0], centroids[i][1], marker = \"x\", color = \"black\")\n",
    "\n",
    "    plt.title(\"Scatter Plot Based on the algorithms applied\")"
   ]
  },
  {
   "cell_type": "code",
   "execution_count": 400,
   "id": "dbfd956d-aff8-4db8-8dd3-6b635d587a46",
   "metadata": {},
   "outputs": [
    {
     "data": {
      "image/png": "[encoded data removed]",
      "text/plain": [
       "<Figure size 640x480 with 1 Axes>"
      ]
     },
     "metadata": {},
     "output_type": "display_data"
    }
   ],
   "source": [
    "make_graph(K, cluster_index, centroids, combined_embeddings)"
   ]
  },
  {
   "cell_type": "code",
   "execution_count": 401,
   "id": "1679ed05-eae6-4b33-81e0-ae08e0c5fedf",
   "metadata": {},
   "outputs": [],
   "source": [
    "def give_intersection(l1, l2):\n",
    "    ans = 0\n",
    "    for i in l1:\n",
    "        if i in l2:\n",
    "            ans += 1\n",
    "\n",
    "    return ans"
   ]
  },
  {
   "cell_type": "code",
   "execution_count": 402,
   "id": "5f30fb27-3a63-4d36-9991-6b34b9fa06df",
   "metadata": {},
   "outputs": [
    {
     "data": {
      "text/plain": [
       "['country',\n",
       " 'hip-hop',\n",
       " 'classical',\n",
       " 'pop',\n",
       " 'pop',\n",
       " 'classical',\n",
       " 'rock',\n",
       " 'hip-hop']"
      ]
     },
     "execution_count": 402,
     "metadata": {},
     "output_type": "execute_result"
    }
   ],
   "source": [
    "def get_genre_by_cluster(cluster_index, all_genres, matrix, K):\n",
    "    mapping = []\n",
    "\n",
    "    for i in range(K):\n",
    "        ans = \"Not Known\"\n",
    "        n = 0\n",
    "        \n",
    "        l = []\n",
    "        for j in range(len(cluster_index)):\n",
    "            if cluster_index[j] == i:\n",
    "                l.append(j)\n",
    "\n",
    "        for key in ALL_GENRES:\n",
    "            intersection = give_intersection(ALL_GENRES[key], l)\n",
    "            if intersection > n:\n",
    "                n = intersection\n",
    "                ans = key\n",
    "\n",
    "        mapping.append(ans)\n",
    "\n",
    "    return mapping\n",
    "\n",
    "GENRE_BY_CLUSTER = get_genre_by_cluster(cluster_index, ALL_GENRES, combined_embeddings, K)\n",
    "GENRE_BY_CLUSTER"
   ]
  },
  {
   "cell_type": "code",
   "execution_count": 403,
   "id": "7192b390-6792-4100-8bf0-9dbcf8185e0f",
   "metadata": {},
   "outputs": [],
   "source": [
    "def predict(keyword_1, keyword_2, keyword_3, centroids):\n",
    "    arr = []\n",
    "    arr.append(create_embeddings(keyword_1))\n",
    "    arr.append(create_embeddings(keyword_2))\n",
    "    arr.append(create_embeddings(keyword_3))\n",
    "    \n",
    "    pca = PCA(2)\n",
    "    pca.fit(arr)\n",
    "    arr = pca.transform(arr)\n",
    "\n",
    "    combined_arr = [0, 0]\n",
    "    for i in arr:\n",
    "        combined_arr[0] += i[0]\n",
    "        combined_arr[1] += i[1]\n",
    "    combined_arr[0] /= len(arr)\n",
    "    combined_arr[0] = combined_arr[0].real\n",
    "    combined_arr[1] /= len(arr)\n",
    "    combined_arr[1] = combined_arr[1].real\n",
    "\n",
    "    d_min = np.inf\n",
    "    centroid_idx = -1\n",
    "    for i in range(len(centroids)):\n",
    "        d = get_squared_dis(centroids[i][0], centroids[i][1], combined_arr[0], combined_arr[1])\n",
    "        if d < d_min:\n",
    "            d_min = d\n",
    "            centroid_idx = i\n",
    "\n",
    "    return GENRE_BY_CLUSTER[centroid_idx]"
   ]
  },
  {
   "cell_type": "code",
   "execution_count": 404,
   "id": "37e195a5-d6d9-4f76-a594-b3b9ee017379",
   "metadata": {},
   "outputs": [
    {
     "data": {
      "text/plain": [
       "'classical'"
      ]
     },
     "execution_count": 404,
     "metadata": {},
     "output_type": "execute_result"
    }
   ],
   "source": [
    "predict(\"piano\", \"calm\", \"slow\", centroids)"
   ]
  },
  {
   "cell_type": "code",
   "execution_count": 405,
   "id": "0f897f52-8bd4-46ca-b11b-179467f77a95",
   "metadata": {},
   "outputs": [
    {
     "data": {
      "text/plain": [
       "'classical'"
      ]
     },
     "execution_count": 405,
     "metadata": {},
     "output_type": "execute_result"
    }
   ],
   "source": [
    "predict(\"guitar\", \"emotional\", \"distorted\", centroids)"
   ]
  },
  {
   "cell_type": "code",
   "execution_count": 406,
   "id": "896c457a-630b-4736-98de-ec0d03058226",
   "metadata": {},
   "outputs": [
    {
     "data": {
      "text/plain": [
       "'country'"
      ]
     },
     "execution_count": 406,
     "metadata": {},
     "output_type": "execute_result"
    }
   ],
   "source": [
    "predict(\"synth\", \"mellow\", \"distorted\", centroids)"
   ]
  },
  {
   "cell_type": "code",
   "execution_count": 407,
   "id": "5e101fcb-04bc-4cb0-8374-639ffa6d8bf1",
   "metadata": {},
   "outputs": [
    {
     "data": {
      "text/plain": [
       "'rock'"
      ]
     },
     "execution_count": 407,
     "metadata": {},
     "output_type": "execute_result"
    }
   ],
   "source": [
    "predict(\"banjo\", \"happy\", \"acoustic\", centroids)"
   ]
  },
  {
   "cell_type": "code",
   "execution_count": null,
   "id": "873a57c0-18ef-4671-8f1f-7b2c1b0a4aa9",
   "metadata": {},
   "outputs": [],
   "source": []
  }
 ],
 "metadata": {
  "kernelspec": {
   "display_name": "Python 3 (ipykernel)",
   "language": "python",
   "name": "python3"
  },
  "language_info": {
   "codemirror_mode": {
    "name": "ipython",
    "version": 3
   },
   "file_extension": ".py",
   "mimetype": "text/x-python",
   "name": "python",
   "nbconvert_exporter": "python",
   "pygments_lexer": "ipython3",
   "version": "3.12.7"
  }
 },
 "nbformat": 4,
 "nbformat_minor": 5
}
